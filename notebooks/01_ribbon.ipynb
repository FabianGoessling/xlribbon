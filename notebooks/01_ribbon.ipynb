{
 "cells": [
  {
   "cell_type": "code",
   "execution_count": 4,
   "metadata": {},
   "outputs": [
    {
     "name": "stdout",
     "output_type": "stream",
     "text": [
      "The autoreload extension is already loaded. To reload it, use:\n",
      "  %reload_ext autoreload\n"
     ]
    }
   ],
   "source": [
    "%load_ext autoreload\n",
    "%autoreload 2\n",
    "\n",
    "from xlribbon.xmlmodels import Tab, Tabs, CheckBox, Button, XMLBase, UI, LabelControl\n",
    "from xlribbon.ribbon import Ribbon\n",
    "\n",
    "custom_ui = Tabs(\n",
    "    id=\"a\",\n",
    "    label=\"Maintab\",\n",
    "    children=[\n",
    "        Tab(\n",
    "            id=\"1\",\n",
    "            label=\"aaaa\",\n",
    "            children=[\n",
    "                Button(\n",
    "                    id=\"mycheckbox\",\n",
    "                    label=\"Click this\",\n",
    "                    getPressed=\"aha\",\n",
    "                    imageMso=\"A\",\n",
    "                    size=\"large\",\n",
    "                    onAction=\"dosomething\",\n",
    "                ),\n",
    "                CheckBox(\n",
    "                    id=\"mycheckbox\",\n",
    "                    label=\"Click this\",\n",
    "                    getPressed=\"aha\",\n",
    "                    imageMso=\"A\",\n",
    "                    size=\"large\",\n",
    "                    onAction=\"dosomething\",\n",
    "                ),\n",
    "                LabelControl(id=\"labelcontrol\")\n",
    "            ],\n",
    "        )\n",
    "    ],\n",
    ")\n"
   ]
  },
  {
   "cell_type": "code",
   "execution_count": 5,
   "metadata": {},
   "outputs": [
    {
     "name": "stdout",
     "output_type": "stream",
     "text": [
      "'xlribbon generated at 2022-05-16 20:05:50.844765\n",
      "\n",
      "'AUTOMATIC GETTER for 'labelcontrol_getText' \n",
      "Sub labelcontrol_getText(control As IRibbonControl)\n",
      "\t RunPython dosome\n",
      "End Sub\n",
      "\n",
      "'AUTOMATIC SETTER for 'labelcontrol_setText' \n",
      "Sub labelcontrol_setText(control As IRibbonControl)\n",
      "\t RunPython dosome\n",
      "End Sub\n",
      "\n",
      "\n",
      "\n",
      " Automatic routes\n",
      "\n"
     ]
    }
   ],
   "source": [
    "\n",
    "ribbon = Ribbon(model=custom_ui, router={\"dosomething\":\"a\", \"aha\": \"b\"})\n",
    "ribbon.make_getters()\n",
    "ribbon.make_setters()\n",
    "print(ribbon.write_routes())"
   ]
  },
  {
   "cell_type": "code",
   "execution_count": null,
   "metadata": {},
   "outputs": [],
   "source": []
  }
 ],
 "metadata": {
  "interpreter": {
   "hash": "458b525252284e8cf60846cc8d01f52a7ea80c3b973277036dbfdba460b5a499"
  },
  "kernelspec": {
   "display_name": "Python 3.9.6 ('.venv': poetry)",
   "language": "python",
   "name": "python3"
  },
  "language_info": {
   "codemirror_mode": {
    "name": "ipython",
    "version": 3
   },
   "file_extension": ".py",
   "mimetype": "text/x-python",
   "name": "python",
   "nbconvert_exporter": "python",
   "pygments_lexer": "ipython3",
   "version": "3.9.6"
  },
  "orig_nbformat": 4
 },
 "nbformat": 4,
 "nbformat_minor": 2
}
