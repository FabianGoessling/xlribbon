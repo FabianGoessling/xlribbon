{
 "cells": [
  {
   "cell_type": "code",
   "execution_count": 1,
   "metadata": {},
   "outputs": [],
   "source": [
    "from xlribbon.xmlmodels import Tab, Tabs, CheckBox, Button, XMLBase, UI, LabelControl, Group, ComboBox, Item\n",
    "from xlribbon.ribbon import Ribbon\n",
    "import logging\n",
    "\n",
    "logger = logging.getLogger(\"xlribbon\")\n",
    "logger.setLevel(logging.DEBUG)\n",
    "handler = logging.StreamHandler()\n",
    "formatter = logging.Formatter(\"%(asctime)s - %(name)s - %(levelname)s - %(message)s\")\n",
    "handler.setFormatter(formatter)\n",
    "logger.addHandler(handler)\n",
    "\n",
    "custom_ui = Tabs(\n",
    "    id=\"a\",\n",
    "    label=\"Maintab\",\n",
    "    children=[\n",
    "        Tab(\n",
    "            id=\"1\",\n",
    "            label=\"aaaa\",\n",
    "            children=[\n",
    "                Group(\n",
    "                    id=\"maingroup\",\n",
    "                    label=\"MainGroup\",\n",
    "                    children=[\n",
    "                        Button(\n",
    "                            id=\"mycheckbox\",\n",
    "                            label=\"Click this\",\n",
    "                            onAction=\"function_2\",\n",
    "                            imageMso=\"A\",\n",
    "                            size=\"large\",\n",
    "                            image=\"Image1\",\n",
    "                        ),\n",
    "                        CheckBox(\n",
    "                            id=\"mycheckbox\",\n",
    "                            label=\"Click this\",\n",
    "                            getPressed=\"function_1\",\n",
    "                            imageMso=\"A\",\n",
    "                            size=\"large\",\n",
    "                            image=\"Image2\",\n",
    "                        ),\n",
    "                        LabelControl(id=\"labelcontrol\"),\n",
    "                        ComboBox(\n",
    "                            id=\"combobox\",\n",
    "                            label=\"Select this\",\n",
    "                            sizeString=\"AAAAA\",\n",
    "                            size=\"large\",\n",
    "                            onAction=\"callback2\",\n",
    "                            onChange=\"mycallback\",\n",
    "                            children=[Item(id=\"a\", label=\"A\"), Item(id=\"b\", label=\"B\")],\n",
    "                        ),\n",
    "                    ],\n",
    "                )\n",
    "            ],\n",
    "        )\n",
    "    ],\n",
    ")\n",
    "\n",
    "router = {\"function_1\": \"1\", \"function_2\": 2, \"callback2\": 2, \"mycallback\": 3}\n"
   ]
  },
  {
   "cell_type": "code",
   "execution_count": 2,
   "metadata": {},
   "outputs": [
    {
     "name": "stderr",
     "output_type": "stream",
     "text": [
      "2022-05-19 22:49:32,118 - xlribbon.ribbon - DEBUG - UI model and function router matched.\n",
      "2022-05-19 22:49:32,123 - xlribbon.ribbon - DEBUG - All required images found in 'img'.\n"
     ]
    }
   ],
   "source": [
    "\n",
    "ribbon = Ribbon(model=custom_ui, router=router)\n",
    "ribbon.make_getters()\n",
    "ribbon.make_setters()\n"
   ]
  },
  {
   "cell_type": "code",
   "execution_count": 4,
   "metadata": {},
   "outputs": [
    {
     "name": "stdout",
     "output_type": "stream",
     "text": [
      "Injecting VBA code failed. If you want to add the route code manually call the 'build_routes' method of your ribbon object.\n"
     ]
    }
   ],
   "source": [
    "ribbon.make_addin(name=\"customaddin\")"
   ]
  },
  {
   "cell_type": "code",
   "execution_count": 5,
   "metadata": {},
   "outputs": [
    {
     "data": {
      "text/plain": [
       "\"'xlribbon generated at 2022-05-18 20:54:40.427689\\n\\n'AUTOMATIC GETTER for 'xlribbon.labelcontrol_getText' \\nSub xlribbon.labelcontrol_getText(control As IRibbonControl)\\n\\t RunPython dosome\\nEnd Sub\\n\\n'AUTOMATIC SETTER for 'xlribbon.labelcontrol_setText' \\nSub xlribbon.labelcontrol_setText(control As IRibbonControl)\\n\\t RunPython dosome\\nEnd Sub\\n\\n\\n\\n Automatic routes\\n\""
      ]
     },
     "execution_count": 5,
     "metadata": {},
     "output_type": "execute_result"
    }
   ],
   "source": [
    "ribbon.build_routes()"
   ]
  },
  {
   "cell_type": "code",
   "execution_count": 3,
   "metadata": {},
   "outputs": [
    {
     "name": "stdout",
     "output_type": "stream",
     "text": [
      "<?xml version=\"1.0\" ?>\n",
      "<customUI xmlns=\"http://schemas.microsoft.com/office/2006/01/customui\">\n",
      "\t<ribbon startFromScratch=\"false\">\n",
      "\t\t<tabs id=\"a\" label=\"Maintab\">\n",
      "\t\t\t<tab id=\"1\" label=\"aaaa\">\n",
      "\t\t\t\t<group id=\"maingroup\" label=\"MainGroup\">\n",
      "\t\t\t\t\t<button id=\"mycheckbox\" label=\"Click this\" image=\"Image1\" imageMso=\"A\" size=\"large\" onAction=\"function_2\"/>\n",
      "\t\t\t\t\t<checkBox id=\"mycheckbox\" label=\"Click this\" image=\"Image2\" imageMso=\"A\" size=\"large\" getPressed=\"function_1\"/>\n",
      "\t\t\t\t\t<labelControl id=\"labelcontrol\" getText=\"xlribbon.labelcontrol_getText\" setText=\"xlribbon.labelcontrol_setText\"/>\n",
      "\t\t\t\t\t<button id=\"combobox\" label=\"Select this\" size=\"large\" onAction=\"callback2\">\n",
      "\t\t\t\t\t\t<item id=\"a\" label=\"A\"/>\n",
      "\t\t\t\t\t\t<item id=\"b\" label=\"B\"/>\n",
      "\t\t\t\t\t</button>\n",
      "\t\t\t\t</group>\n",
      "\t\t\t</tab>\n",
      "\t\t</tabs>\n",
      "\t</ribbon>\n",
      "</customUI>\n",
      "\n"
     ]
    }
   ],
   "source": [
    "print(ribbon.xml())\n"
   ]
  },
  {
   "cell_type": "code",
   "execution_count": null,
   "metadata": {},
   "outputs": [],
   "source": []
  }
 ],
 "metadata": {
  "interpreter": {
   "hash": "458b525252284e8cf60846cc8d01f52a7ea80c3b973277036dbfdba460b5a499"
  },
  "kernelspec": {
   "display_name": "Python 3.9.6 ('.venv': poetry)",
   "language": "python",
   "name": "python3"
  },
  "language_info": {
   "codemirror_mode": {
    "name": "ipython",
    "version": 3
   },
   "file_extension": ".py",
   "mimetype": "text/x-python",
   "name": "python",
   "nbconvert_exporter": "python",
   "pygments_lexer": "ipython3",
   "version": "3.9.6"
  },
  "orig_nbformat": 4
 },
 "nbformat": 4,
 "nbformat_minor": 2
}
