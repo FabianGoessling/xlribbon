{
 "cells": [
  {
   "cell_type": "code",
   "execution_count": null,
   "metadata": {},
   "outputs": [],
   "source": [
    "from zipfile import ZipFile\n",
    "\n",
    "xlam_zip = ZipFile(\"xlwings.xlam\", mode=\"a\")\n",
    "xlam_zip.infolist()"
   ]
  },
  {
   "cell_type": "code",
   "execution_count": null,
   "metadata": {},
   "outputs": [],
   "source": [
    "vba_filename = \"vbaProject.bin\"\n",
    "\n",
    "vba_data = xlam_zip.read('xl/' + vba_filename)\n",
    " \n",
    "# Write the vba data to a local file.\n",
    "vba_file = open(vba_filename, \"wb\")\n",
    "vba_file.write(vba_data)\n",
    "vba_file.close()"
   ]
  },
  {
   "cell_type": "code",
   "execution_count": null,
   "metadata": {},
   "outputs": [],
   "source": [
    "vba_project = ZipFile('./xl/vbaProject.bin', \"r\")\n",
    "vba_project.infolist()"
   ]
  },
  {
   "cell_type": "code",
   "execution_count": null,
   "metadata": {},
   "outputs": [],
   "source": [
    "file = open('vbaProject.bin', \"rb\")\n",
    "binary_data = file.read()"
   ]
  },
  {
   "cell_type": "code",
   "execution_count": null,
   "metadata": {},
   "outputs": [],
   "source": [
    "import olefile\n",
    "ole = olefile.OleFileIO('vbaProject.bin', write_mode=True)"
   ]
  },
  {
   "cell_type": "code",
   "execution_count": null,
   "metadata": {},
   "outputs": [],
   "source": [
    "ole.listdir()\n",
    "ribbon_xw = ole.openstream([\"VBA\", \"RibbonXlwings\"])\n",
    "data = ribbon_xw.read()\n",
    "data.decode(\"cp1250\")"
   ]
  },
  {
   "cell_type": "code",
   "execution_count": null,
   "metadata": {},
   "outputs": [],
   "source": [
    "from oletools.olevba import VBA_Parser\n",
    "parser = VBA_Parser(\"vbaProject.bin\")\n",
    "list(parser.extract_macros())"
   ]
  },
  {
   "cell_type": "code",
   "execution_count": null,
   "metadata": {},
   "outputs": [],
   "source": [
    "z.infolist()"
   ]
  },
  {
   "cell_type": "code",
   "execution_count": null,
   "metadata": {},
   "outputs": [],
   "source": [
    "with z.open('customUI/customUI.xml') as myfile:\n",
    "    print(myfile.read())\n",
    "\n",
    "    "
   ]
  },
  {
   "cell_type": "code",
   "execution_count": 3,
   "metadata": {},
   "outputs": [],
   "source": [
    "%load_ext autoreload\n",
    "%autoreload 2\n",
    "\n",
    "from xmlmodels import Tab, Tabs, CheckBox, Button, XMLBase, UI, LabelControl\n",
    "\n",
    "\n",
    "checkbox = Tabs(\n",
    "    id=\"a\",\n",
    "    label=\"Maintab\",\n",
    "    children=[\n",
    "        Tab(\n",
    "            id=\"1\",\n",
    "            label=\"aaaa\",\n",
    "            children=[\n",
    "                Button(\n",
    "                    id=\"mycheckbox\",\n",
    "                    label=\"Click this\",\n",
    "                    getPressed=\"aha\",\n",
    "                    imageMso=\"A\",\n",
    "                    size=\"large\",\n",
    "                    onAction=\"dosomething\",\n",
    "                ),\n",
    "                CheckBox(\n",
    "                    id=\"mycheckbox\",\n",
    "                    label=\"Click this\",\n",
    "                    getPressed=\"aha\",\n",
    "                    imageMso=\"A\",\n",
    "                    size=\"large\",\n",
    "                    onAction=\"dosomething\",\n",
    "                ),\n",
    "                LabelControl(id=\"labelcontrol\")\n",
    "            ],\n",
    "        )\n",
    "    ],\n",
    ")\n"
   ]
  },
  {
   "cell_type": "code",
   "execution_count": 4,
   "metadata": {},
   "outputs": [
    {
     "name": "stdout",
     "output_type": "stream",
     "text": [
      "'xlribbon generated at 2022-05-14 22:25:21.610485\n",
      "\n",
      "'AUTOMATIC GETTER for 'labelcontrol_getText' \n",
      "Sub labelcontrol_getText(control As IRibbonControl)\n",
      "\t RunPython dosome\n",
      "End Sub\n",
      "\n",
      "'AUTOMATIC SETTER for 'labelcontrol_setText' \n",
      "Sub labelcontrol_setText(control As IRibbonControl)\n",
      "\t RunPython dosome\n",
      "End Sub\n",
      "\n",
      "\n",
      "\n",
      " Automatic routes\n",
      "\n"
     ]
    }
   ],
   "source": [
    "from ribbon import Ribbon\n",
    "ribbon = Ribbon(model=checkbox, router={\"dosomething\":\"a\", \"aha\": \"b\"})\n",
    "ribbon.make_getters()\n",
    "ribbon.make_setters()\n",
    "print(ribbon.write_routes())"
   ]
  },
  {
   "cell_type": "code",
   "execution_count": 2,
   "metadata": {},
   "outputs": [
    {
     "ename": "NameError",
     "evalue": "name 'checkbox' is not defined",
     "output_type": "error",
     "traceback": [
      "\u001b[0;31m---------------------------------------------------------------------------\u001b[0m",
      "\u001b[0;31mNameError\u001b[0m                                 Traceback (most recent call last)",
      "\u001b[1;32m/Users/Fabian/sciebo/PythonFiles/custom_addin/edit_addin.ipynb Cell 12'\u001b[0m in \u001b[0;36m<cell line: 1>\u001b[0;34m()\u001b[0m\n\u001b[0;32m----> <a href='vscode-notebook-cell:/Users/Fabian/sciebo/PythonFiles/custom_addin/edit_addin.ipynb#ch0000011?line=0'>1</a>\u001b[0m checkbox\u001b[39m.\u001b[39mget_setters()\n",
      "\u001b[0;31mNameError\u001b[0m: name 'checkbox' is not defined"
     ]
    }
   ],
   "source": [
    "checkbox.get_setters()"
   ]
  },
  {
   "cell_type": "code",
   "execution_count": null,
   "metadata": {},
   "outputs": [],
   "source": []
  }
 ],
 "metadata": {
  "interpreter": {
   "hash": "80abde1a1f2d9c312a9ad79cf0b0bf73bc128badc786d7f3e871b418a0764bb6"
  },
  "kernelspec": {
   "display_name": "Python 3.9.6 ('workbench-LL9Q4h84-py3.9')",
   "language": "python",
   "name": "python3"
  },
  "language_info": {
   "codemirror_mode": {
    "name": "ipython",
    "version": 3
   },
   "file_extension": ".py",
   "mimetype": "text/x-python",
   "name": "python",
   "nbconvert_exporter": "python",
   "pygments_lexer": "ipython3",
   "version": "3.9.6"
  },
  "orig_nbformat": 4
 },
 "nbformat": 4,
 "nbformat_minor": 2
}
